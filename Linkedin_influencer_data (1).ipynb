{
 "cells": [
  {
   "cell_type": "code",
   "execution_count": 1,
   "id": "aa67a9fb",
   "metadata": {},
   "outputs": [],
   "source": [
    "import numpy as np\n",
    "import pandas as pd\n",
    "import matplotlib.pyplot as plt\n",
    "import seaborn as sns\n",
    "from sklearn.model_selection import train_test_split\n",
    "from sklearn.linear_model import LinearRegression\n",
    "from warnings import filterwarnings\n",
    "from sklearn import preprocessing\n"
   ]
  },
  {
   "cell_type": "code",
   "execution_count": null,
   "id": "3e65fc4b",
   "metadata": {},
   "outputs": [],
   "source": []
  },
  {
   "cell_type": "markdown",
   "id": "8b3e9603",
   "metadata": {},
   "source": [
    "# info: this dataset contains LinkedIn Influencers daily posts details"
   ]
  },
  {
   "cell_type": "markdown",
   "id": "7a1000f9",
   "metadata": {},
   "source": [
    "# main goal is to analyze LinkedIn reach based on post content and related details."
   ]
  },
  {
   "cell_type": "code",
   "execution_count": 2,
   "id": "820a3599",
   "metadata": {},
   "outputs": [
    {
     "name": "stderr",
     "output_type": "stream",
     "text": [
      "C:\\Users\\Vasanth\\anaconda3\\lib\\site-packages\\IPython\\core\\interactiveshell.py:3444: DtypeWarning: Columns (18) have mixed types.Specify dtype option on import or set low_memory=False.\n",
      "  exec(code_obj, self.user_global_ns, self.user_ns)\n"
     ]
    }
   ],
   "source": [
    "df=pd.read_csv(\"file:///C:/Users/Vasanth/Downloads/influencers_data.csv\")"
   ]
  },
  {
   "cell_type": "code",
   "execution_count": 3,
   "id": "e9575568",
   "metadata": {
    "scrolled": true
   },
   "outputs": [
    {
     "data": {
      "text/html": [
       "<div>\n",
       "<style scoped>\n",
       "    .dataframe tbody tr th:only-of-type {\n",
       "        vertical-align: middle;\n",
       "    }\n",
       "\n",
       "    .dataframe tbody tr th {\n",
       "        vertical-align: top;\n",
       "    }\n",
       "\n",
       "    .dataframe thead th {\n",
       "        text-align: right;\n",
       "    }\n",
       "</style>\n",
       "<table border=\"1\" class=\"dataframe\">\n",
       "  <thead>\n",
       "    <tr style=\"text-align: right;\">\n",
       "      <th></th>\n",
       "      <th>Unnamed: 0</th>\n",
       "      <th>name</th>\n",
       "      <th>headline</th>\n",
       "      <th>location</th>\n",
       "      <th>followers</th>\n",
       "      <th>connections</th>\n",
       "      <th>about</th>\n",
       "      <th>time_spent</th>\n",
       "      <th>content</th>\n",
       "      <th>content_links</th>\n",
       "      <th>media_type</th>\n",
       "      <th>media_url</th>\n",
       "      <th>num_hashtags</th>\n",
       "      <th>hashtag_followers</th>\n",
       "      <th>hashtags</th>\n",
       "      <th>reactions</th>\n",
       "      <th>comments</th>\n",
       "      <th>views</th>\n",
       "      <th>votes</th>\n",
       "    </tr>\n",
       "  </thead>\n",
       "  <tbody>\n",
       "    <tr>\n",
       "      <th>0</th>\n",
       "      <td>0</td>\n",
       "      <td>Nicholas Wyman</td>\n",
       "      <td>CEO IWSI Group</td>\n",
       "      <td>NaN</td>\n",
       "      <td>6484.0</td>\n",
       "      <td>500+</td>\n",
       "      <td>Nicholas Wyman for the past 25 years has shone...</td>\n",
       "      <td>1 day ago</td>\n",
       "      <td>Robert Lerman  writes that achieving a healthy...</td>\n",
       "      <td>[['https://www.linkedin.com/in/ACoAAACy1HkBviR...</td>\n",
       "      <td>article</td>\n",
       "      <td>['https://www.urban.org/urban-wire/its-time-mo...</td>\n",
       "      <td>4</td>\n",
       "      <td>0</td>\n",
       "      <td>[['#workbasedlearning', 'https://www.linkedin....</td>\n",
       "      <td>12</td>\n",
       "      <td>1</td>\n",
       "      <td>NaN</td>\n",
       "      <td>NaN</td>\n",
       "    </tr>\n",
       "    <tr>\n",
       "      <th>1</th>\n",
       "      <td>1</td>\n",
       "      <td>Nicholas Wyman</td>\n",
       "      <td>CEO IWSI Group</td>\n",
       "      <td>NaN</td>\n",
       "      <td>6484.0</td>\n",
       "      <td>500+</td>\n",
       "      <td>Nicholas Wyman for the past 25 years has shone...</td>\n",
       "      <td>1 week ago</td>\n",
       "      <td>National disability advocate  Sara Hart Weir, ...</td>\n",
       "      <td>[['https://www.linkedin.com/in/ACoAAAHsfJgBb7_...</td>\n",
       "      <td>NaN</td>\n",
       "      <td>[]</td>\n",
       "      <td>0</td>\n",
       "      <td>0</td>\n",
       "      <td>[]</td>\n",
       "      <td>11</td>\n",
       "      <td>0</td>\n",
       "      <td>NaN</td>\n",
       "      <td>NaN</td>\n",
       "    </tr>\n",
       "    <tr>\n",
       "      <th>2</th>\n",
       "      <td>2</td>\n",
       "      <td>Nicholas Wyman</td>\n",
       "      <td>CEO IWSI Group</td>\n",
       "      <td>NaN</td>\n",
       "      <td>6484.0</td>\n",
       "      <td>500+</td>\n",
       "      <td>Nicholas Wyman for the past 25 years has shone...</td>\n",
       "      <td>2 months ago</td>\n",
       "      <td>NaN</td>\n",
       "      <td>[]</td>\n",
       "      <td>NaN</td>\n",
       "      <td>[]</td>\n",
       "      <td>0</td>\n",
       "      <td>0</td>\n",
       "      <td>[]</td>\n",
       "      <td>15</td>\n",
       "      <td>0</td>\n",
       "      <td>NaN</td>\n",
       "      <td>NaN</td>\n",
       "    </tr>\n",
       "    <tr>\n",
       "      <th>3</th>\n",
       "      <td>3</td>\n",
       "      <td>Nicholas Wyman</td>\n",
       "      <td>CEO IWSI Group</td>\n",
       "      <td>NaN</td>\n",
       "      <td>6484.0</td>\n",
       "      <td>500+</td>\n",
       "      <td>Nicholas Wyman for the past 25 years has shone...</td>\n",
       "      <td>2 months ago</td>\n",
       "      <td>Exploring in this months Talent Management &amp; H...</td>\n",
       "      <td>[['https://www.linkedin.com/in/ACoAAAADlGIBLfn...</td>\n",
       "      <td>article</td>\n",
       "      <td>['https://www.tlnt.com/apprenticeships-that-br...</td>\n",
       "      <td>4</td>\n",
       "      <td>0</td>\n",
       "      <td>[['#careerplanning', 'https://www.linkedin.com...</td>\n",
       "      <td>44</td>\n",
       "      <td>0</td>\n",
       "      <td>NaN</td>\n",
       "      <td>NaN</td>\n",
       "    </tr>\n",
       "    <tr>\n",
       "      <th>4</th>\n",
       "      <td>4</td>\n",
       "      <td>Nicholas Wyman</td>\n",
       "      <td>CEO IWSI Group</td>\n",
       "      <td>NaN</td>\n",
       "      <td>6484.0</td>\n",
       "      <td>500+</td>\n",
       "      <td>Nicholas Wyman for the past 25 years has shone...</td>\n",
       "      <td>2 months ago</td>\n",
       "      <td>I count myself fortunate to have spent time wi...</td>\n",
       "      <td>[['https://www.linkedin.com/in/ACoAABhNxDUB9IX...</td>\n",
       "      <td>article</td>\n",
       "      <td>['https://gritdaily.com/the-legacy-of-verified...</td>\n",
       "      <td>3</td>\n",
       "      <td>0</td>\n",
       "      <td>[['#verifiedresumes', 'https://www.linkedin.co...</td>\n",
       "      <td>22</td>\n",
       "      <td>2</td>\n",
       "      <td>NaN</td>\n",
       "      <td>NaN</td>\n",
       "    </tr>\n",
       "  </tbody>\n",
       "</table>\n",
       "</div>"
      ],
      "text/plain": [
       "   Unnamed: 0            name        headline location  followers connections  \\\n",
       "0           0  Nicholas Wyman  CEO IWSI Group      NaN     6484.0        500+   \n",
       "1           1  Nicholas Wyman  CEO IWSI Group      NaN     6484.0        500+   \n",
       "2           2  Nicholas Wyman  CEO IWSI Group      NaN     6484.0        500+   \n",
       "3           3  Nicholas Wyman  CEO IWSI Group      NaN     6484.0        500+   \n",
       "4           4  Nicholas Wyman  CEO IWSI Group      NaN     6484.0        500+   \n",
       "\n",
       "                                               about    time_spent  \\\n",
       "0  Nicholas Wyman for the past 25 years has shone...     1 day ago   \n",
       "1  Nicholas Wyman for the past 25 years has shone...    1 week ago   \n",
       "2  Nicholas Wyman for the past 25 years has shone...  2 months ago   \n",
       "3  Nicholas Wyman for the past 25 years has shone...  2 months ago   \n",
       "4  Nicholas Wyman for the past 25 years has shone...  2 months ago   \n",
       "\n",
       "                                             content  \\\n",
       "0  Robert Lerman  writes that achieving a healthy...   \n",
       "1  National disability advocate  Sara Hart Weir, ...   \n",
       "2                                                NaN   \n",
       "3  Exploring in this months Talent Management & H...   \n",
       "4  I count myself fortunate to have spent time wi...   \n",
       "\n",
       "                                       content_links media_type  \\\n",
       "0  [['https://www.linkedin.com/in/ACoAAACy1HkBviR...    article   \n",
       "1  [['https://www.linkedin.com/in/ACoAAAHsfJgBb7_...        NaN   \n",
       "2                                                 []        NaN   \n",
       "3  [['https://www.linkedin.com/in/ACoAAAADlGIBLfn...    article   \n",
       "4  [['https://www.linkedin.com/in/ACoAABhNxDUB9IX...    article   \n",
       "\n",
       "                                           media_url  num_hashtags  \\\n",
       "0  ['https://www.urban.org/urban-wire/its-time-mo...             4   \n",
       "1                                                 []             0   \n",
       "2                                                 []             0   \n",
       "3  ['https://www.tlnt.com/apprenticeships-that-br...             4   \n",
       "4  ['https://gritdaily.com/the-legacy-of-verified...             3   \n",
       "\n",
       "   hashtag_followers                                           hashtags  \\\n",
       "0                  0  [['#workbasedlearning', 'https://www.linkedin....   \n",
       "1                  0                                                 []   \n",
       "2                  0                                                 []   \n",
       "3                  0  [['#careerplanning', 'https://www.linkedin.com...   \n",
       "4                  0  [['#verifiedresumes', 'https://www.linkedin.co...   \n",
       "\n",
       "   reactions  comments  views votes  \n",
       "0         12         1    NaN   NaN  \n",
       "1         11         0    NaN   NaN  \n",
       "2         15         0    NaN   NaN  \n",
       "3         44         0    NaN   NaN  \n",
       "4         22         2    NaN   NaN  "
      ]
     },
     "execution_count": 3,
     "metadata": {},
     "output_type": "execute_result"
    }
   ],
   "source": [
    "df.head()"
   ]
  },
  {
   "cell_type": "markdown",
   "id": "ecf16a3b",
   "metadata": {},
   "source": [
    "#  here the target variable is \"followers\" hence it is regression model."
   ]
  },
  {
   "cell_type": "code",
   "execution_count": 4,
   "id": "a4513281",
   "metadata": {},
   "outputs": [
    {
     "data": {
      "text/plain": [
       "(34012, 19)"
      ]
     },
     "execution_count": 4,
     "metadata": {},
     "output_type": "execute_result"
    }
   ],
   "source": [
    "df.shape"
   ]
  },
  {
   "cell_type": "code",
   "execution_count": 5,
   "id": "7ff5c926",
   "metadata": {},
   "outputs": [
    {
     "data": {
      "text/plain": [
       "34012"
      ]
     },
     "execution_count": 5,
     "metadata": {},
     "output_type": "execute_result"
    }
   ],
   "source": [
    "df[\"name\"].count()"
   ]
  },
  {
   "cell_type": "code",
   "execution_count": 6,
   "id": "e2280e2f",
   "metadata": {},
   "outputs": [
    {
     "data": {
      "text/plain": [
       "array(['Nicholas Wyman', 'Jonathan Wolfer', 'Karen Gross',\n",
       "       'Kaia Niambi Shivers Ph.D.', \"Daniel Cohen-I'm Flyering\",\n",
       "       'Natalie Riso', 'Dale Corley', 'James Calder', 'Yasi Baiani',\n",
       "       'Julie Kliger', 'Stephanie C. O.', 'Michelle de Haaff',\n",
       "       'Bertalan Meskó, MD, PhD', 'Michelle Chaffee', 'Beth Seidenberg',\n",
       "       'Russell Benaroya', 'Richard Branson', 'Mohamed El-Erian',\n",
       "       'James Altucher', 'Bernard Marr', 'Ian Bremmer', 'Sramana Mitra',\n",
       "       'Lynne Everatt', 'Justin Bariso', 'Carson Tate', 'Gary Frisch',\n",
       "       'James Bareham', 'Tai T.', 'Glenn Leibowitz', 'Marianne Griebler',\n",
       "       'Tom Goodwin', 'Katie Martell', 'Shama Hyder',\n",
       "       'Barry W. Enderwick', 'Steve Blakeman', 'Gillian Zoe Segal',\n",
       "       'Tom Foremski', 'Kiara Imani Williams, Esq.', 'Kellye Whitney',\n",
       "       'Simon Owens', 'Rachel Jones', 'Vikram Mansharamani',\n",
       "       '🏉 Pascal Bouvier', 'Geoffrey Garrett', 'Ben Casselman',\n",
       "       'Tamal Bandyopadhyay', 'Karen Webster', 'Jody Padar',\n",
       "       'Hansi Mehrotra', 'Nick Ciubotariu', 'Neil Hughes', 'Nir Eyal',\n",
       "       'Shelly Palmer', 'Lee Naik', 'Danielle Newnham', 'Vani Kola',\n",
       "       'Chris McCann', 'Andrew Yang', 'Lisa Abeyta', 'Juliet de Baubigny',\n",
       "       'Sarah Kauss', 'Pocket Sun', 'Chantel Soumis', 'String Nguyen',\n",
       "       'Quentin Michael Allums', 'AJ Wilcox', \"Kevin O'Leary\",\n",
       "       'Amy Blaschka', 'Simon Sinek'], dtype=object)"
      ]
     },
     "execution_count": 6,
     "metadata": {},
     "output_type": "execute_result"
    }
   ],
   "source": [
    "df['name'].unique()"
   ]
  },
  {
   "cell_type": "code",
   "execution_count": 7,
   "id": "42ddba25",
   "metadata": {},
   "outputs": [
    {
     "data": {
      "text/plain": [
       "(69,)"
      ]
     },
     "execution_count": 7,
     "metadata": {},
     "output_type": "execute_result"
    }
   ],
   "source": [
    "df['name'].unique().shape"
   ]
  },
  {
   "cell_type": "code",
   "execution_count": 8,
   "id": "cce8bcfd",
   "metadata": {},
   "outputs": [
    {
     "data": {
      "text/plain": [
       "array(['1 day ago', '1 week ago', '2 months ago', '3 months ago',\n",
       "       '4 months ago', '5 months ago', '6 months ago', '7 months ago',\n",
       "       '8 months ago', '9 months ago', '10 months ago', '11 months ago',\n",
       "       '1 year ago', '2 years ago', '3 years ago', '4 years ago',\n",
       "       '5 years ago', '6 years ago', '3 days ago', '2 weeks ago',\n",
       "       '3 weeks ago', '1 month ago', '4 days ago', '7 years ago',\n",
       "       '1 hour ago', '3 hours ago', '5 hours ago', '2 days ago',\n",
       "       '6 days ago', '15 hours ago', '19 hours ago', '20 hours ago',\n",
       "       '7 hours ago', '8 hours ago', '22 hours ago', '5 days ago',\n",
       "       '4 hours ago', '14 hours ago', '2 hours ago', '6 hours ago',\n",
       "       '10 hours ago', '13 hours ago', '23 hours ago', '18 hours ago',\n",
       "       '21 hours ago', '9 hours ago', nan, '12 hours ago', '17 hours ago'],\n",
       "      dtype=object)"
      ]
     },
     "execution_count": 8,
     "metadata": {},
     "output_type": "execute_result"
    }
   ],
   "source": [
    "df['time_spent'].unique()"
   ]
  },
  {
   "cell_type": "code",
   "execution_count": 9,
   "id": "f7daf3fd",
   "metadata": {},
   "outputs": [
    {
     "data": {
      "text/html": [
       "<div>\n",
       "<style scoped>\n",
       "    .dataframe tbody tr th:only-of-type {\n",
       "        vertical-align: middle;\n",
       "    }\n",
       "\n",
       "    .dataframe tbody tr th {\n",
       "        vertical-align: top;\n",
       "    }\n",
       "\n",
       "    .dataframe thead th {\n",
       "        text-align: right;\n",
       "    }\n",
       "</style>\n",
       "<table border=\"1\" class=\"dataframe\">\n",
       "  <thead>\n",
       "    <tr style=\"text-align: right;\">\n",
       "      <th></th>\n",
       "      <th>Unnamed: 0</th>\n",
       "      <th>followers</th>\n",
       "      <th>num_hashtags</th>\n",
       "      <th>hashtag_followers</th>\n",
       "      <th>reactions</th>\n",
       "      <th>comments</th>\n",
       "      <th>views</th>\n",
       "    </tr>\n",
       "  </thead>\n",
       "  <tbody>\n",
       "    <tr>\n",
       "      <th>count</th>\n",
       "      <td>34012.000000</td>\n",
       "      <td>3.397000e+04</td>\n",
       "      <td>34012.000000</td>\n",
       "      <td>34012.0</td>\n",
       "      <td>34012.000000</td>\n",
       "      <td>34012.000000</td>\n",
       "      <td>0.0</td>\n",
       "    </tr>\n",
       "    <tr>\n",
       "      <th>mean</th>\n",
       "      <td>17005.500000</td>\n",
       "      <td>1.125922e+06</td>\n",
       "      <td>2.099788</td>\n",
       "      <td>0.0</td>\n",
       "      <td>472.956486</td>\n",
       "      <td>26.977273</td>\n",
       "      <td>NaN</td>\n",
       "    </tr>\n",
       "    <tr>\n",
       "      <th>std</th>\n",
       "      <td>9818.563014</td>\n",
       "      <td>3.057750e+06</td>\n",
       "      <td>3.517457</td>\n",
       "      <td>0.0</td>\n",
       "      <td>4163.929944</td>\n",
       "      <td>216.364372</td>\n",
       "      <td>NaN</td>\n",
       "    </tr>\n",
       "    <tr>\n",
       "      <th>min</th>\n",
       "      <td>0.000000</td>\n",
       "      <td>1.710000e+02</td>\n",
       "      <td>0.000000</td>\n",
       "      <td>0.0</td>\n",
       "      <td>0.000000</td>\n",
       "      <td>0.000000</td>\n",
       "      <td>NaN</td>\n",
       "    </tr>\n",
       "    <tr>\n",
       "      <th>25%</th>\n",
       "      <td>8502.750000</td>\n",
       "      <td>9.914800e+04</td>\n",
       "      <td>0.000000</td>\n",
       "      <td>0.0</td>\n",
       "      <td>7.000000</td>\n",
       "      <td>0.000000</td>\n",
       "      <td>NaN</td>\n",
       "    </tr>\n",
       "    <tr>\n",
       "      <th>50%</th>\n",
       "      <td>17005.500000</td>\n",
       "      <td>4.082540e+05</td>\n",
       "      <td>0.000000</td>\n",
       "      <td>0.0</td>\n",
       "      <td>36.000000</td>\n",
       "      <td>2.000000</td>\n",
       "      <td>NaN</td>\n",
       "    </tr>\n",
       "    <tr>\n",
       "      <th>75%</th>\n",
       "      <td>25508.250000</td>\n",
       "      <td>7.193340e+05</td>\n",
       "      <td>3.000000</td>\n",
       "      <td>0.0</td>\n",
       "      <td>143.000000</td>\n",
       "      <td>14.000000</td>\n",
       "      <td>NaN</td>\n",
       "    </tr>\n",
       "    <tr>\n",
       "      <th>max</th>\n",
       "      <td>34011.000000</td>\n",
       "      <td>1.828935e+07</td>\n",
       "      <td>48.000000</td>\n",
       "      <td>0.0</td>\n",
       "      <td>391498.000000</td>\n",
       "      <td>32907.000000</td>\n",
       "      <td>NaN</td>\n",
       "    </tr>\n",
       "  </tbody>\n",
       "</table>\n",
       "</div>"
      ],
      "text/plain": [
       "         Unnamed: 0     followers  num_hashtags  hashtag_followers  \\\n",
       "count  34012.000000  3.397000e+04  34012.000000            34012.0   \n",
       "mean   17005.500000  1.125922e+06      2.099788                0.0   \n",
       "std     9818.563014  3.057750e+06      3.517457                0.0   \n",
       "min        0.000000  1.710000e+02      0.000000                0.0   \n",
       "25%     8502.750000  9.914800e+04      0.000000                0.0   \n",
       "50%    17005.500000  4.082540e+05      0.000000                0.0   \n",
       "75%    25508.250000  7.193340e+05      3.000000                0.0   \n",
       "max    34011.000000  1.828935e+07     48.000000                0.0   \n",
       "\n",
       "           reactions      comments  views  \n",
       "count   34012.000000  34012.000000    0.0  \n",
       "mean      472.956486     26.977273    NaN  \n",
       "std      4163.929944    216.364372    NaN  \n",
       "min         0.000000      0.000000    NaN  \n",
       "25%         7.000000      0.000000    NaN  \n",
       "50%        36.000000      2.000000    NaN  \n",
       "75%       143.000000     14.000000    NaN  \n",
       "max    391498.000000  32907.000000    NaN  "
      ]
     },
     "execution_count": 9,
     "metadata": {},
     "output_type": "execute_result"
    }
   ],
   "source": [
    "df.describe()"
   ]
  },
  {
   "cell_type": "code",
   "execution_count": 10,
   "id": "8ccfabef",
   "metadata": {},
   "outputs": [
    {
     "data": {
      "text/plain": [
       "Unnamed: 0               0\n",
       "name                     0\n",
       "headline                 0\n",
       "location              2272\n",
       "followers               42\n",
       "connections           8299\n",
       "about                    0\n",
       "time_spent               1\n",
       "content               2016\n",
       "content_links            0\n",
       "media_type            7233\n",
       "media_url                0\n",
       "num_hashtags             0\n",
       "hashtag_followers        0\n",
       "hashtags                 0\n",
       "reactions                0\n",
       "comments                 0\n",
       "views                34012\n",
       "votes                33926\n",
       "dtype: int64"
      ]
     },
     "execution_count": 10,
     "metadata": {},
     "output_type": "execute_result"
    }
   ],
   "source": [
    "df.isnull().sum()"
   ]
  },
  {
   "cell_type": "code",
   "execution_count": 11,
   "id": "f863e831",
   "metadata": {},
   "outputs": [],
   "source": [
    "df = df.drop(columns = ['views', 'votes', 'media_type', 'content', 'connections', 'location','content_links', 'media_url','about'])"
   ]
  },
  {
   "cell_type": "code",
   "execution_count": 12,
   "id": "ef5b839f",
   "metadata": {},
   "outputs": [
    {
     "data": {
      "text/html": [
       "<div>\n",
       "<style scoped>\n",
       "    .dataframe tbody tr th:only-of-type {\n",
       "        vertical-align: middle;\n",
       "    }\n",
       "\n",
       "    .dataframe tbody tr th {\n",
       "        vertical-align: top;\n",
       "    }\n",
       "\n",
       "    .dataframe thead th {\n",
       "        text-align: right;\n",
       "    }\n",
       "</style>\n",
       "<table border=\"1\" class=\"dataframe\">\n",
       "  <thead>\n",
       "    <tr style=\"text-align: right;\">\n",
       "      <th></th>\n",
       "      <th>Unnamed: 0</th>\n",
       "      <th>name</th>\n",
       "      <th>headline</th>\n",
       "      <th>followers</th>\n",
       "      <th>time_spent</th>\n",
       "      <th>num_hashtags</th>\n",
       "      <th>hashtag_followers</th>\n",
       "      <th>hashtags</th>\n",
       "      <th>reactions</th>\n",
       "      <th>comments</th>\n",
       "    </tr>\n",
       "  </thead>\n",
       "  <tbody>\n",
       "    <tr>\n",
       "      <th>0</th>\n",
       "      <td>0</td>\n",
       "      <td>Nicholas Wyman</td>\n",
       "      <td>CEO IWSI Group</td>\n",
       "      <td>6484.0</td>\n",
       "      <td>1 day ago</td>\n",
       "      <td>4</td>\n",
       "      <td>0</td>\n",
       "      <td>[['#workbasedlearning', 'https://www.linkedin....</td>\n",
       "      <td>12</td>\n",
       "      <td>1</td>\n",
       "    </tr>\n",
       "    <tr>\n",
       "      <th>1</th>\n",
       "      <td>1</td>\n",
       "      <td>Nicholas Wyman</td>\n",
       "      <td>CEO IWSI Group</td>\n",
       "      <td>6484.0</td>\n",
       "      <td>1 week ago</td>\n",
       "      <td>0</td>\n",
       "      <td>0</td>\n",
       "      <td>[]</td>\n",
       "      <td>11</td>\n",
       "      <td>0</td>\n",
       "    </tr>\n",
       "    <tr>\n",
       "      <th>2</th>\n",
       "      <td>2</td>\n",
       "      <td>Nicholas Wyman</td>\n",
       "      <td>CEO IWSI Group</td>\n",
       "      <td>6484.0</td>\n",
       "      <td>2 months ago</td>\n",
       "      <td>0</td>\n",
       "      <td>0</td>\n",
       "      <td>[]</td>\n",
       "      <td>15</td>\n",
       "      <td>0</td>\n",
       "    </tr>\n",
       "    <tr>\n",
       "      <th>3</th>\n",
       "      <td>3</td>\n",
       "      <td>Nicholas Wyman</td>\n",
       "      <td>CEO IWSI Group</td>\n",
       "      <td>6484.0</td>\n",
       "      <td>2 months ago</td>\n",
       "      <td>4</td>\n",
       "      <td>0</td>\n",
       "      <td>[['#careerplanning', 'https://www.linkedin.com...</td>\n",
       "      <td>44</td>\n",
       "      <td>0</td>\n",
       "    </tr>\n",
       "    <tr>\n",
       "      <th>4</th>\n",
       "      <td>4</td>\n",
       "      <td>Nicholas Wyman</td>\n",
       "      <td>CEO IWSI Group</td>\n",
       "      <td>6484.0</td>\n",
       "      <td>2 months ago</td>\n",
       "      <td>3</td>\n",
       "      <td>0</td>\n",
       "      <td>[['#verifiedresumes', 'https://www.linkedin.co...</td>\n",
       "      <td>22</td>\n",
       "      <td>2</td>\n",
       "    </tr>\n",
       "  </tbody>\n",
       "</table>\n",
       "</div>"
      ],
      "text/plain": [
       "   Unnamed: 0            name        headline  followers    time_spent  \\\n",
       "0           0  Nicholas Wyman  CEO IWSI Group     6484.0     1 day ago   \n",
       "1           1  Nicholas Wyman  CEO IWSI Group     6484.0    1 week ago   \n",
       "2           2  Nicholas Wyman  CEO IWSI Group     6484.0  2 months ago   \n",
       "3           3  Nicholas Wyman  CEO IWSI Group     6484.0  2 months ago   \n",
       "4           4  Nicholas Wyman  CEO IWSI Group     6484.0  2 months ago   \n",
       "\n",
       "   num_hashtags  hashtag_followers  \\\n",
       "0             4                  0   \n",
       "1             0                  0   \n",
       "2             0                  0   \n",
       "3             4                  0   \n",
       "4             3                  0   \n",
       "\n",
       "                                            hashtags  reactions  comments  \n",
       "0  [['#workbasedlearning', 'https://www.linkedin....         12         1  \n",
       "1                                                 []         11         0  \n",
       "2                                                 []         15         0  \n",
       "3  [['#careerplanning', 'https://www.linkedin.com...         44         0  \n",
       "4  [['#verifiedresumes', 'https://www.linkedin.co...         22         2  "
      ]
     },
     "execution_count": 12,
     "metadata": {},
     "output_type": "execute_result"
    }
   ],
   "source": [
    "df.head()"
   ]
  },
  {
   "cell_type": "code",
   "execution_count": 13,
   "id": "23019dc5",
   "metadata": {},
   "outputs": [],
   "source": [
    "df['followers']=df['followers'].replace(to_replace=0, value=np.nan)\n",
    "df['followers']=df['followers'].astype(float)\n",
    "mean=df['followers'].mean()\n",
    "df['followers'].replace(np.nan,mean,inplace=True)"
   ]
  },
  {
   "cell_type": "code",
   "execution_count": 14,
   "id": "1013b706",
   "metadata": {},
   "outputs": [],
   "source": [
    "cov= df.corr()"
   ]
  },
  {
   "cell_type": "code",
   "execution_count": 15,
   "id": "03d53780",
   "metadata": {},
   "outputs": [
    {
     "data": {
      "text/plain": [
       "Unnamed: 0          -0.223846\n",
       "num_hashtags        -0.061855\n",
       "comments             0.195125\n",
       "reactions            0.241809\n",
       "followers            1.000000\n",
       "hashtag_followers         NaN\n",
       "Name: followers, dtype: float64"
      ]
     },
     "execution_count": 15,
     "metadata": {},
     "output_type": "execute_result"
    }
   ],
   "source": [
    "cov[\"followers\"].sort_values(ascending=True)"
   ]
  },
  {
   "cell_type": "markdown",
   "id": "01157be9",
   "metadata": {},
   "source": [
    "# data visualization"
   ]
  },
  {
   "cell_type": "code",
   "execution_count": 16,
   "id": "3ab47336",
   "metadata": {},
   "outputs": [
    {
     "name": "stderr",
     "output_type": "stream",
     "text": [
      "C:\\Users\\Vasanth\\anaconda3\\lib\\site-packages\\matplotlib\\backends\\backend_agg.py:240: RuntimeWarning: Glyph 127945 missing from current font.\n",
      "  font.set_text(s, 0.0, flags=flags)\n",
      "C:\\Users\\Vasanth\\anaconda3\\lib\\site-packages\\matplotlib\\backends\\backend_agg.py:203: RuntimeWarning: Glyph 127945 missing from current font.\n",
      "  font.set_text(s, 0, flags=flags)\n"
     ]
    },
    {
     "data": {
      "image/png": "[encoded data removed]",
      "text/plain": [
       "<Figure size 1008x1800 with 1 Axes>"
      ]
     },
     "metadata": {
      "needs_background": "light"
     },
     "output_type": "display_data"
    }
   ],
   "source": [
    "df['name'].value_counts().plot(kind='bar')\n",
    "plt.gcf().set_size_inches(14, 25)"
   ]
  },
  {
   "cell_type": "markdown",
   "id": "05a0c7aa",
   "metadata": {},
   "source": [
    "### from the above plot we can see all the influencers and their highest count of followers. here we can see mr. shelly palmer has highest reach. and stephaine has lowest when compared to others. "
   ]
  },
  {
   "cell_type": "markdown",
   "id": "82457f6d",
   "metadata": {},
   "source": [
    "### here i am analyzing shelly palmer data"
   ]
  },
  {
   "cell_type": "code",
   "execution_count": 17,
   "id": "3ed041e6",
   "metadata": {},
   "outputs": [],
   "source": [
    "df_first = df[(df['name']=='Shelly Palmer')]"
   ]
  },
  {
   "cell_type": "code",
   "execution_count": 18,
   "id": "3551bbb8",
   "metadata": {},
   "outputs": [
    {
     "data": {
      "text/plain": [
       "array(['14 hours ago', '15 hours ago', '17 hours ago', '18 hours ago',\n",
       "       '19 hours ago', '1 day ago', '1 week ago', '2 days ago',\n",
       "       '3 days ago', '4 days ago', '2 weeks ago', '3 weeks ago',\n",
       "       '1 month ago', '2 months ago', '3 months ago', '4 months ago',\n",
       "       '5 months ago', '6 months ago', '7 months ago', '8 months ago',\n",
       "       '9 months ago', '10 months ago', '11 months ago', '1 year ago'],\n",
       "      dtype=object)"
      ]
     },
     "execution_count": 18,
     "metadata": {},
     "output_type": "execute_result"
    }
   ],
   "source": [
    "df_first['time_spent'].unique()"
   ]
  },
  {
   "cell_type": "code",
   "execution_count": 19,
   "id": "1cfd5ef9",
   "metadata": {},
   "outputs": [
    {
     "data": {
      "text/plain": [
       "<AxesSubplot:xlabel='followers', ylabel='Count'>"
      ]
     },
     "execution_count": 19,
     "metadata": {},
     "output_type": "execute_result"
    },
    {
     "data": {
      "image/png": "[encoded data removed]",
      "text/plain": [
       "<Figure size 432x288 with 1 Axes>"
      ]
     },
     "metadata": {
      "needs_background": "light"
     },
     "output_type": "display_data"
    }
   ],
   "source": [
    "sns.histplot(df_first['followers'],kde=False,bins=20)"
   ]
  },
  {
   "cell_type": "code",
   "execution_count": 20,
   "id": "6ff5e968",
   "metadata": {},
   "outputs": [
    {
     "data": {
      "image/png": "[encoded data removed]",
      "text/plain": [
       "<Figure size 1440x576 with 1 Axes>"
      ]
     },
     "metadata": {
      "needs_background": "light"
     },
     "output_type": "display_data"
    }
   ],
   "source": [
    "fig, ax = plt.subplots(figsize=(20,8))\n",
    "ax.bar(df_first['time_spent'], df_first['followers'], color='brown')\n",
    "ax.xaxis.set_major_locator(plt.MaxNLocator(10))\n",
    "ax.set_xlabel('time spent', fontsize='11')\n",
    "ax.set_ylabel('number of Followers', fontsize='11')\n",
    "plt.title('timespent-number of Followers', fontsize='25')\n",
    "plt.grid()\n",
    "plt.show()"
   ]
  },
  {
   "cell_type": "code",
   "execution_count": 21,
   "id": "adb6a9c6",
   "metadata": {},
   "outputs": [
    {
     "data": {
      "image/png": "[encoded data removed]",
      "text/plain": [
       "<Figure size 1440x576 with 1 Axes>"
      ]
     },
     "metadata": {
      "needs_background": "light"
     },
     "output_type": "display_data"
    }
   ],
   "source": [
    "fig, ax = plt.subplots(figsize=(20,8))\n",
    "ax.bar(df_first['time_spent'], df_first['reactions'], color='brown')\n",
    "ax.xaxis.set_major_locator(plt.MaxNLocator(10))\n",
    "ax.set_xlabel('time spent', fontsize='11')\n",
    "ax.set_ylabel('reactions', fontsize='11')\n",
    "plt.title('time spent-reactions', fontsize='25')\n",
    "plt.grid()\n",
    "plt.show()"
   ]
  },
  {
   "cell_type": "code",
   "execution_count": 22,
   "id": "6e57bbee",
   "metadata": {},
   "outputs": [
    {
     "data": {
      "image/png": "[encoded data removed]",
      "text/plain": [
       "<Figure size 1440x576 with 1 Axes>"
      ]
     },
     "metadata": {
      "needs_background": "light"
     },
     "output_type": "display_data"
    }
   ],
   "source": [
    "fig, ax = plt.subplots(figsize=(20,8))\n",
    "ax.bar(df_first['time_spent'], df_first['comments'], color='brown')\n",
    "ax.xaxis.set_major_locator(plt.MaxNLocator(10))\n",
    "ax.set_xlabel('time spent', fontsize='11')\n",
    "ax.set_ylabel('comments', fontsize='11')\n",
    "plt.title('time spent-comments', fontsize='25')\n",
    "plt.grid()\n",
    "plt.show()"
   ]
  },
  {
   "cell_type": "code",
   "execution_count": 23,
   "id": "320f0d54",
   "metadata": {},
   "outputs": [
    {
     "data": {
      "image/png": "[encoded data removed]",
      "text/plain": [
       "<Figure size 1440x576 with 1 Axes>"
      ]
     },
     "metadata": {
      "needs_background": "light"
     },
     "output_type": "display_data"
    }
   ],
   "source": [
    "fig, ax = plt.subplots(figsize=(20,8))\n",
    "ax.bar(df_first['time_spent'], df_first['num_hashtags'], color='brown')\n",
    "ax.xaxis.set_major_locator(plt.MaxNLocator(10))\n",
    "ax.set_xlabel('time spent', fontsize='11')\n",
    "ax.set_ylabel('number of hastags', fontsize='11')\n",
    "plt.title('time spent-number of hastags', fontsize='25')\n",
    "plt.grid()\n",
    "plt.show()"
   ]
  },
  {
   "cell_type": "markdown",
   "id": "c882a82b",
   "metadata": {},
   "source": [
    "### here i am analyzing the influencer having lowest  reach."
   ]
  },
  {
   "cell_type": "code",
   "execution_count": 24,
   "id": "0399962f",
   "metadata": {},
   "outputs": [],
   "source": [
    "df_first = df[(df['name']=='Jonathan Wolfer')]"
   ]
  },
  {
   "cell_type": "code",
   "execution_count": 25,
   "id": "686bdd30",
   "metadata": {},
   "outputs": [
    {
     "data": {
      "text/plain": [
       "array(['3 months ago', '1 year ago', '2 years ago', '3 years ago',\n",
       "       '4 years ago', '5 years ago', '6 years ago'], dtype=object)"
      ]
     },
     "execution_count": 25,
     "metadata": {},
     "output_type": "execute_result"
    }
   ],
   "source": [
    "df_first['time_spent'].unique()"
   ]
  },
  {
   "cell_type": "code",
   "execution_count": 26,
   "id": "ffe59d75",
   "metadata": {},
   "outputs": [
    {
     "data": {
      "text/plain": [
       "<AxesSubplot:xlabel='followers', ylabel='Count'>"
      ]
     },
     "execution_count": 26,
     "metadata": {},
     "output_type": "execute_result"
    },
    {
     "data": {
      "image/png": "[encoded data removed]",
      "text/plain": [
       "<Figure size 432x288 with 1 Axes>"
      ]
     },
     "metadata": {
      "needs_background": "light"
     },
     "output_type": "display_data"
    }
   ],
   "source": [
    "sns.histplot(df_first['followers'],kde=False,bins=20)"
   ]
  },
  {
   "cell_type": "code",
   "execution_count": null,
   "id": "17620a4c",
   "metadata": {},
   "outputs": [],
   "source": []
  },
  {
   "cell_type": "code",
   "execution_count": 27,
   "id": "a9f8d0bb",
   "metadata": {},
   "outputs": [
    {
     "data": {
      "image/png": "[encoded data removed]",
      "text/plain": [
       "<Figure size 1440x576 with 1 Axes>"
      ]
     },
     "metadata": {
      "needs_background": "light"
     },
     "output_type": "display_data"
    }
   ],
   "source": [
    "fig, ax = plt.subplots(figsize=(20,8))\n",
    "ax.bar(df_first['time_spent'], df_first['followers'], color='green')\n",
    "ax.xaxis.set_major_locator(plt.MaxNLocator(10))\n",
    "ax.set_xlabel('time spent', fontsize='11')\n",
    "ax.set_ylabel('number of Followers', fontsize='11')\n",
    "plt.title('timespent-number of Followers', fontsize='25')\n",
    "plt.grid()\n",
    "plt.show()"
   ]
  },
  {
   "cell_type": "code",
   "execution_count": 28,
   "id": "986ddfa2",
   "metadata": {},
   "outputs": [
    {
     "data": {
      "image/png": "[encoded data removed]",
      "text/plain": [
       "<Figure size 1440x576 with 1 Axes>"
      ]
     },
     "metadata": {
      "needs_background": "light"
     },
     "output_type": "display_data"
    }
   ],
   "source": [
    "fig, ax = plt.subplots(figsize=(20,8))\n",
    "ax.bar(df_first['time_spent'], df_first['reactions'], color='green')\n",
    "ax.xaxis.set_major_locator(plt.MaxNLocator(10))\n",
    "ax.set_xlabel('time spent', fontsize='11')\n",
    "ax.set_ylabel('reactions', fontsize='11')\n",
    "plt.title('time spent-reactions', fontsize='25')\n",
    "plt.grid()\n",
    "plt.show()"
   ]
  },
  {
   "cell_type": "code",
   "execution_count": 29,
   "id": "489228f4",
   "metadata": {},
   "outputs": [
    {
     "data": {
      "image/png": "[encoded data removed]",
      "text/plain": [
       "<Figure size 1440x576 with 1 Axes>"
      ]
     },
     "metadata": {
      "needs_background": "light"
     },
     "output_type": "display_data"
    }
   ],
   "source": [
    "fig, ax = plt.subplots(figsize=(20,8))\n",
    "ax.bar(df_first['time_spent'], df_first['comments'], color='green')\n",
    "ax.xaxis.set_major_locator(plt.MaxNLocator(10))\n",
    "ax.set_xlabel('time spent', fontsize='11')\n",
    "ax.set_ylabel('comments', fontsize='11')\n",
    "plt.title('time spent-comments', fontsize='25')\n",
    "plt.grid()\n",
    "plt.show()"
   ]
  },
  {
   "cell_type": "code",
   "execution_count": 30,
   "id": "21b3fb9e",
   "metadata": {},
   "outputs": [
    {
     "data": {
      "image/png": "[encoded data removed]",
      "text/plain": [
       "<Figure size 1440x576 with 1 Axes>"
      ]
     },
     "metadata": {
      "needs_background": "light"
     },
     "output_type": "display_data"
    }
   ],
   "source": [
    "fig, ax = plt.subplots(figsize=(20,8))\n",
    "ax.bar(df_first['time_spent'], df_first['num_hashtags'], color='green')\n",
    "ax.xaxis.set_major_locator(plt.MaxNLocator(10))\n",
    "ax.set_xlabel('time spent', fontsize='11')\n",
    "ax.set_ylabel('number of hastags', fontsize='11')\n",
    "plt.title('time spent-number of hastags', fontsize='25')\n",
    "plt.grid()\n",
    "plt.show()"
   ]
  },
  {
   "cell_type": "markdown",
   "id": "4961b880",
   "metadata": {},
   "source": [
    "### as we can see he has'nt uploaded anything in these 5 years and hence he has lowerst reach."
   ]
  },
  {
   "cell_type": "markdown",
   "id": "7535fbd5",
   "metadata": {},
   "source": [
    "###  here i am analyzing the  influencer how has 2nd lowest  reach"
   ]
  },
  {
   "cell_type": "code",
   "execution_count": 31,
   "id": "344f59d6",
   "metadata": {},
   "outputs": [],
   "source": [
    "df_first = df[(df['name']=='Stephanie C. O')]"
   ]
  },
  {
   "cell_type": "code",
   "execution_count": 32,
   "id": "257784ae",
   "metadata": {},
   "outputs": [
    {
     "data": {
      "text/plain": [
       "<AxesSubplot:>"
      ]
     },
     "execution_count": 32,
     "metadata": {},
     "output_type": "execute_result"
    },
    {
     "data": {
      "image/png": "[encoded data removed]",
      "text/plain": [
       "<Figure size 432x288 with 1 Axes>"
      ]
     },
     "metadata": {
      "needs_background": "light"
     },
     "output_type": "display_data"
    }
   ],
   "source": [
    "sns.histplot(df_first['followers'],kde=False,bins=20)"
   ]
  },
  {
   "cell_type": "code",
   "execution_count": 33,
   "id": "149efcf0",
   "metadata": {},
   "outputs": [
    {
     "data": {
      "image/png": "[encoded data removed]",
      "text/plain": [
       "<Figure size 1440x576 with 1 Axes>"
      ]
     },
     "metadata": {
      "needs_background": "light"
     },
     "output_type": "display_data"
    }
   ],
   "source": [
    "fig, ax = plt.subplots(figsize=(20,8))\n",
    "ax.bar(df_first['time_spent'], df_first['followers'], color='blue')\n",
    "ax.xaxis.set_major_locator(plt.MaxNLocator(10))\n",
    "ax.set_xlabel('time spent', fontsize='11')\n",
    "ax.set_ylabel('number of Followers', fontsize='11')\n",
    "plt.title('timespent-number of Followers', fontsize='25')\n",
    "plt.grid()\n",
    "plt.show()"
   ]
  },
  {
   "cell_type": "code",
   "execution_count": 34,
   "id": "2add8c18",
   "metadata": {},
   "outputs": [
    {
     "data": {
      "image/png": "[encoded data removed]",
      "text/plain": [
       "<Figure size 1440x576 with 1 Axes>"
      ]
     },
     "metadata": {
      "needs_background": "light"
     },
     "output_type": "display_data"
    }
   ],
   "source": [
    "fig, ax = plt.subplots(figsize=(20,8))\n",
    "ax.bar(df_first['time_spent'], df_first['reactions'], color='blue')\n",
    "ax.xaxis.set_major_locator(plt.MaxNLocator(10))\n",
    "ax.set_xlabel('time spent', fontsize='11')\n",
    "ax.set_ylabel('reactions', fontsize='11')\n",
    "plt.title('time spent-reactions', fontsize='25')\n",
    "plt.grid()\n",
    "plt.show()"
   ]
  },
  {
   "cell_type": "code",
   "execution_count": 35,
   "id": "43b3bdc7",
   "metadata": {},
   "outputs": [
    {
     "data": {
      "image/png": "[encoded data removed]",
      "text/plain": [
       "<Figure size 1440x576 with 1 Axes>"
      ]
     },
     "metadata": {
      "needs_background": "light"
     },
     "output_type": "display_data"
    }
   ],
   "source": [
    "fig, ax = plt.subplots(figsize=(20,8))\n",
    "ax.bar(df_first['time_spent'], df_first['comments'], color='blue')\n",
    "ax.xaxis.set_major_locator(plt.MaxNLocator(10))\n",
    "ax.set_xlabel('time spent', fontsize='11')\n",
    "ax.set_ylabel('comments', fontsize='11')\n",
    "plt.title('time spent-comments', fontsize='25')\n",
    "plt.grid()\n",
    "plt.show()"
   ]
  },
  {
   "cell_type": "code",
   "execution_count": 36,
   "id": "9a64d5e2",
   "metadata": {},
   "outputs": [
    {
     "data": {
      "image/png": "[encoded data removed]",
      "text/plain": [
       "<Figure size 1440x576 with 1 Axes>"
      ]
     },
     "metadata": {
      "needs_background": "light"
     },
     "output_type": "display_data"
    }
   ],
   "source": [
    "fig, ax = plt.subplots(figsize=(20,8))\n",
    "ax.bar(df_first['time_spent'], df_first['num_hashtags'], color='blue')\n",
    "ax.xaxis.set_major_locator(plt.MaxNLocator(10))\n",
    "ax.set_xlabel('time spent', fontsize='11')\n",
    "ax.set_ylabel('number of hastags', fontsize='11')\n",
    "plt.title('time spent-number of hastags', fontsize='25')\n",
    "plt.grid()\n",
    "plt.show()"
   ]
  },
  {
   "cell_type": "markdown",
   "id": "8c881927",
   "metadata": {},
   "source": [
    "### hence depends on how much time he has spent on posting valuable information the followers increasers."
   ]
  },
  {
   "cell_type": "code",
   "execution_count": 37,
   "id": "8d1ea520",
   "metadata": {},
   "outputs": [],
   "source": [
    "df.rename( columns={\"Unnamed: 0\":'number' } ,inplace=True)"
   ]
  },
  {
   "cell_type": "code",
   "execution_count": 38,
   "id": "39c64508",
   "metadata": {},
   "outputs": [],
   "source": [
    "df = df.drop(columns = [ 'hashtags', 'headline', 'name','time_spent'])"
   ]
  },
  {
   "cell_type": "code",
   "execution_count": 39,
   "id": "675f7285",
   "metadata": {},
   "outputs": [
    {
     "data": {
      "text/html": [
       "<div>\n",
       "<style scoped>\n",
       "    .dataframe tbody tr th:only-of-type {\n",
       "        vertical-align: middle;\n",
       "    }\n",
       "\n",
       "    .dataframe tbody tr th {\n",
       "        vertical-align: top;\n",
       "    }\n",
       "\n",
       "    .dataframe thead th {\n",
       "        text-align: right;\n",
       "    }\n",
       "</style>\n",
       "<table border=\"1\" class=\"dataframe\">\n",
       "  <thead>\n",
       "    <tr style=\"text-align: right;\">\n",
       "      <th></th>\n",
       "      <th>number</th>\n",
       "      <th>followers</th>\n",
       "      <th>num_hashtags</th>\n",
       "      <th>hashtag_followers</th>\n",
       "      <th>reactions</th>\n",
       "      <th>comments</th>\n",
       "    </tr>\n",
       "  </thead>\n",
       "  <tbody>\n",
       "    <tr>\n",
       "      <th>0</th>\n",
       "      <td>0</td>\n",
       "      <td>6484.0</td>\n",
       "      <td>4</td>\n",
       "      <td>0</td>\n",
       "      <td>12</td>\n",
       "      <td>1</td>\n",
       "    </tr>\n",
       "    <tr>\n",
       "      <th>1</th>\n",
       "      <td>1</td>\n",
       "      <td>6484.0</td>\n",
       "      <td>0</td>\n",
       "      <td>0</td>\n",
       "      <td>11</td>\n",
       "      <td>0</td>\n",
       "    </tr>\n",
       "    <tr>\n",
       "      <th>2</th>\n",
       "      <td>2</td>\n",
       "      <td>6484.0</td>\n",
       "      <td>0</td>\n",
       "      <td>0</td>\n",
       "      <td>15</td>\n",
       "      <td>0</td>\n",
       "    </tr>\n",
       "    <tr>\n",
       "      <th>3</th>\n",
       "      <td>3</td>\n",
       "      <td>6484.0</td>\n",
       "      <td>4</td>\n",
       "      <td>0</td>\n",
       "      <td>44</td>\n",
       "      <td>0</td>\n",
       "    </tr>\n",
       "    <tr>\n",
       "      <th>4</th>\n",
       "      <td>4</td>\n",
       "      <td>6484.0</td>\n",
       "      <td>3</td>\n",
       "      <td>0</td>\n",
       "      <td>22</td>\n",
       "      <td>2</td>\n",
       "    </tr>\n",
       "  </tbody>\n",
       "</table>\n",
       "</div>"
      ],
      "text/plain": [
       "   number  followers  num_hashtags  hashtag_followers  reactions  comments\n",
       "0       0     6484.0             4                  0         12         1\n",
       "1       1     6484.0             0                  0         11         0\n",
       "2       2     6484.0             0                  0         15         0\n",
       "3       3     6484.0             4                  0         44         0\n",
       "4       4     6484.0             3                  0         22         2"
      ]
     },
     "execution_count": 39,
     "metadata": {},
     "output_type": "execute_result"
    }
   ],
   "source": [
    "df.head()"
   ]
  },
  {
   "cell_type": "code",
   "execution_count": null,
   "id": "bd3cf349",
   "metadata": {},
   "outputs": [],
   "source": []
  },
  {
   "cell_type": "markdown",
   "id": "77f7b504",
   "metadata": {},
   "source": [
    "### modelling data"
   ]
  },
  {
   "cell_type": "code",
   "execution_count": 40,
   "id": "e3f65922",
   "metadata": {},
   "outputs": [],
   "source": [
    "x=df.drop(['followers',],axis=1)\n",
    "y=df[['followers']]"
   ]
  },
  {
   "cell_type": "code",
   "execution_count": 41,
   "id": "81578527",
   "metadata": {},
   "outputs": [],
   "source": [
    "x_train,x_test,y_train,y_test=train_test_split(x,y,train_size=0.7,test_size=0.3,random_state=1)"
   ]
  },
  {
   "cell_type": "code",
   "execution_count": 42,
   "id": "81d021c7",
   "metadata": {},
   "outputs": [
    {
     "data": {
      "text/html": [
       "<style>#sk-container-id-1 {color: black;background-color: white;}#sk-container-id-1 pre{padding: 0;}#sk-container-id-1 div.sk-toggleable {background-color: white;}#sk-container-id-1 label.sk-toggleable__label {cursor: pointer;display: block;width: 100%;margin-bottom: 0;padding: 0.3em;box-sizing: border-box;text-align: center;}#sk-container-id-1 label.sk-toggleable__label-arrow:before {content: \"▸\";float: left;margin-right: 0.25em;color: #696969;}#sk-container-id-1 label.sk-toggleable__label-arrow:hover:before {color: black;}#sk-container-id-1 div.sk-estimator:hover label.sk-toggleable__label-arrow:before {color: black;}#sk-container-id-1 div.sk-toggleable__content {max-height: 0;max-width: 0;overflow: hidden;text-align: left;background-color: #f0f8ff;}#sk-container-id-1 div.sk-toggleable__content pre {margin: 0.2em;color: black;border-radius: 0.25em;background-color: #f0f8ff;}#sk-container-id-1 input.sk-toggleable__control:checked~div.sk-toggleable__content {max-height: 200px;max-width: 100%;overflow: auto;}#sk-container-id-1 input.sk-toggleable__control:checked~label.sk-toggleable__label-arrow:before {content: \"▾\";}#sk-container-id-1 div.sk-estimator input.sk-toggleable__control:checked~label.sk-toggleable__label {background-color: #d4ebff;}#sk-container-id-1 div.sk-label input.sk-toggleable__control:checked~label.sk-toggleable__label {background-color: #d4ebff;}#sk-container-id-1 input.sk-hidden--visually {border: 0;clip: rect(1px 1px 1px 1px);clip: rect(1px, 1px, 1px, 1px);height: 1px;margin: -1px;overflow: hidden;padding: 0;position: absolute;width: 1px;}#sk-container-id-1 div.sk-estimator {font-family: monospace;background-color: #f0f8ff;border: 1px dotted black;border-radius: 0.25em;box-sizing: border-box;margin-bottom: 0.5em;}#sk-container-id-1 div.sk-estimator:hover {background-color: #d4ebff;}#sk-container-id-1 div.sk-parallel-item::after {content: \"\";width: 100%;border-bottom: 1px solid gray;flex-grow: 1;}#sk-container-id-1 div.sk-label:hover label.sk-toggleable__label {background-color: #d4ebff;}#sk-container-id-1 div.sk-serial::before {content: \"\";position: absolute;border-left: 1px solid gray;box-sizing: border-box;top: 0;bottom: 0;left: 50%;z-index: 0;}#sk-container-id-1 div.sk-serial {display: flex;flex-direction: column;align-items: center;background-color: white;padding-right: 0.2em;padding-left: 0.2em;position: relative;}#sk-container-id-1 div.sk-item {position: relative;z-index: 1;}#sk-container-id-1 div.sk-parallel {display: flex;align-items: stretch;justify-content: center;background-color: white;position: relative;}#sk-container-id-1 div.sk-item::before, #sk-container-id-1 div.sk-parallel-item::before {content: \"\";position: absolute;border-left: 1px solid gray;box-sizing: border-box;top: 0;bottom: 0;left: 50%;z-index: -1;}#sk-container-id-1 div.sk-parallel-item {display: flex;flex-direction: column;z-index: 1;position: relative;background-color: white;}#sk-container-id-1 div.sk-parallel-item:first-child::after {align-self: flex-end;width: 50%;}#sk-container-id-1 div.sk-parallel-item:last-child::after {align-self: flex-start;width: 50%;}#sk-container-id-1 div.sk-parallel-item:only-child::after {width: 0;}#sk-container-id-1 div.sk-dashed-wrapped {border: 1px dashed gray;margin: 0 0.4em 0.5em 0.4em;box-sizing: border-box;padding-bottom: 0.4em;background-color: white;}#sk-container-id-1 div.sk-label label {font-family: monospace;font-weight: bold;display: inline-block;line-height: 1.2em;}#sk-container-id-1 div.sk-label-container {text-align: center;}#sk-container-id-1 div.sk-container {/* jupyter's `normalize.less` sets `[hidden] { display: none; }` but bootstrap.min.css set `[hidden] { display: none !important; }` so we also need the `!important` here to be able to override the default hidden behavior on the sphinx rendered scikit-learn.org. See: https://github.com/scikit-learn/scikit-learn/issues/21755 */display: inline-block !important;position: relative;}#sk-container-id-1 div.sk-text-repr-fallback {display: none;}</style><div id=\"sk-container-id-1\" class=\"sk-top-container\"><div class=\"sk-text-repr-fallback\"><pre>LinearRegression()</pre><b>In a Jupyter environment, please rerun this cell to show the HTML representation or trust the notebook. <br />On GitHub, the HTML representation is unable to render, please try loading this page with nbviewer.org.</b></div><div class=\"sk-container\" hidden><div class=\"sk-item\"><div class=\"sk-estimator sk-toggleable\"><input class=\"sk-toggleable__control sk-hidden--visually\" id=\"sk-estimator-id-1\" type=\"checkbox\" checked><label for=\"sk-estimator-id-1\" class=\"sk-toggleable__label sk-toggleable__label-arrow\">LinearRegression</label><div class=\"sk-toggleable__content\"><pre>LinearRegression()</pre></div></div></div></div></div>"
      ],
      "text/plain": [
       "LinearRegression()"
      ]
     },
     "execution_count": 42,
     "metadata": {},
     "output_type": "execute_result"
    }
   ],
   "source": [
    "reg=LinearRegression()\n",
    "reg.fit(x_train,y_train)"
   ]
  },
  {
   "cell_type": "code",
   "execution_count": 43,
   "id": "cc1ed7fe",
   "metadata": {},
   "outputs": [
    {
     "data": {
      "text/plain": [
       "0.10670057321892745"
      ]
     },
     "execution_count": 43,
     "metadata": {},
     "output_type": "execute_result"
    }
   ],
   "source": [
    "reg.score(x_train,y_train)"
   ]
  },
  {
   "cell_type": "code",
   "execution_count": 44,
   "id": "6b7e260d",
   "metadata": {},
   "outputs": [
    {
     "data": {
      "text/plain": [
       "0.13356849778276847"
      ]
     },
     "execution_count": 44,
     "metadata": {},
     "output_type": "execute_result"
    }
   ],
   "source": [
    "reg.score(x_test,y_test)"
   ]
  },
  {
   "cell_type": "code",
   "execution_count": 45,
   "id": "9f742650",
   "metadata": {},
   "outputs": [],
   "source": [
    "from sklearn.tree import DecisionTreeRegressor"
   ]
  },
  {
   "cell_type": "code",
   "execution_count": 46,
   "id": "f88c7090",
   "metadata": {},
   "outputs": [],
   "source": [
    "dtr= DecisionTreeRegressor()"
   ]
  },
  {
   "cell_type": "code",
   "execution_count": 47,
   "id": "5de0f6cf",
   "metadata": {},
   "outputs": [
    {
     "data": {
      "text/html": [
       "<style>#sk-container-id-2 {color: black;background-color: white;}#sk-container-id-2 pre{padding: 0;}#sk-container-id-2 div.sk-toggleable {background-color: white;}#sk-container-id-2 label.sk-toggleable__label {cursor: pointer;display: block;width: 100%;margin-bottom: 0;padding: 0.3em;box-sizing: border-box;text-align: center;}#sk-container-id-2 label.sk-toggleable__label-arrow:before {content: \"▸\";float: left;margin-right: 0.25em;color: #696969;}#sk-container-id-2 label.sk-toggleable__label-arrow:hover:before {color: black;}#sk-container-id-2 div.sk-estimator:hover label.sk-toggleable__label-arrow:before {color: black;}#sk-container-id-2 div.sk-toggleable__content {max-height: 0;max-width: 0;overflow: hidden;text-align: left;background-color: #f0f8ff;}#sk-container-id-2 div.sk-toggleable__content pre {margin: 0.2em;color: black;border-radius: 0.25em;background-color: #f0f8ff;}#sk-container-id-2 input.sk-toggleable__control:checked~div.sk-toggleable__content {max-height: 200px;max-width: 100%;overflow: auto;}#sk-container-id-2 input.sk-toggleable__control:checked~label.sk-toggleable__label-arrow:before {content: \"▾\";}#sk-container-id-2 div.sk-estimator input.sk-toggleable__control:checked~label.sk-toggleable__label {background-color: #d4ebff;}#sk-container-id-2 div.sk-label input.sk-toggleable__control:checked~label.sk-toggleable__label {background-color: #d4ebff;}#sk-container-id-2 input.sk-hidden--visually {border: 0;clip: rect(1px 1px 1px 1px);clip: rect(1px, 1px, 1px, 1px);height: 1px;margin: -1px;overflow: hidden;padding: 0;position: absolute;width: 1px;}#sk-container-id-2 div.sk-estimator {font-family: monospace;background-color: #f0f8ff;border: 1px dotted black;border-radius: 0.25em;box-sizing: border-box;margin-bottom: 0.5em;}#sk-container-id-2 div.sk-estimator:hover {background-color: #d4ebff;}#sk-container-id-2 div.sk-parallel-item::after {content: \"\";width: 100%;border-bottom: 1px solid gray;flex-grow: 1;}#sk-container-id-2 div.sk-label:hover label.sk-toggleable__label {background-color: #d4ebff;}#sk-container-id-2 div.sk-serial::before {content: \"\";position: absolute;border-left: 1px solid gray;box-sizing: border-box;top: 0;bottom: 0;left: 50%;z-index: 0;}#sk-container-id-2 div.sk-serial {display: flex;flex-direction: column;align-items: center;background-color: white;padding-right: 0.2em;padding-left: 0.2em;position: relative;}#sk-container-id-2 div.sk-item {position: relative;z-index: 1;}#sk-container-id-2 div.sk-parallel {display: flex;align-items: stretch;justify-content: center;background-color: white;position: relative;}#sk-container-id-2 div.sk-item::before, #sk-container-id-2 div.sk-parallel-item::before {content: \"\";position: absolute;border-left: 1px solid gray;box-sizing: border-box;top: 0;bottom: 0;left: 50%;z-index: -1;}#sk-container-id-2 div.sk-parallel-item {display: flex;flex-direction: column;z-index: 1;position: relative;background-color: white;}#sk-container-id-2 div.sk-parallel-item:first-child::after {align-self: flex-end;width: 50%;}#sk-container-id-2 div.sk-parallel-item:last-child::after {align-self: flex-start;width: 50%;}#sk-container-id-2 div.sk-parallel-item:only-child::after {width: 0;}#sk-container-id-2 div.sk-dashed-wrapped {border: 1px dashed gray;margin: 0 0.4em 0.5em 0.4em;box-sizing: border-box;padding-bottom: 0.4em;background-color: white;}#sk-container-id-2 div.sk-label label {font-family: monospace;font-weight: bold;display: inline-block;line-height: 1.2em;}#sk-container-id-2 div.sk-label-container {text-align: center;}#sk-container-id-2 div.sk-container {/* jupyter's `normalize.less` sets `[hidden] { display: none; }` but bootstrap.min.css set `[hidden] { display: none !important; }` so we also need the `!important` here to be able to override the default hidden behavior on the sphinx rendered scikit-learn.org. See: https://github.com/scikit-learn/scikit-learn/issues/21755 */display: inline-block !important;position: relative;}#sk-container-id-2 div.sk-text-repr-fallback {display: none;}</style><div id=\"sk-container-id-2\" class=\"sk-top-container\"><div class=\"sk-text-repr-fallback\"><pre>DecisionTreeRegressor()</pre><b>In a Jupyter environment, please rerun this cell to show the HTML representation or trust the notebook. <br />On GitHub, the HTML representation is unable to render, please try loading this page with nbviewer.org.</b></div><div class=\"sk-container\" hidden><div class=\"sk-item\"><div class=\"sk-estimator sk-toggleable\"><input class=\"sk-toggleable__control sk-hidden--visually\" id=\"sk-estimator-id-2\" type=\"checkbox\" checked><label for=\"sk-estimator-id-2\" class=\"sk-toggleable__label sk-toggleable__label-arrow\">DecisionTreeRegressor</label><div class=\"sk-toggleable__content\"><pre>DecisionTreeRegressor()</pre></div></div></div></div></div>"
      ],
      "text/plain": [
       "DecisionTreeRegressor()"
      ]
     },
     "execution_count": 47,
     "metadata": {},
     "output_type": "execute_result"
    }
   ],
   "source": [
    "dtr.fit(x_train,y_train)"
   ]
  },
  {
   "cell_type": "code",
   "execution_count": 48,
   "id": "52cfd509",
   "metadata": {},
   "outputs": [
    {
     "data": {
      "text/plain": [
       "1.0"
      ]
     },
     "execution_count": 48,
     "metadata": {},
     "output_type": "execute_result"
    }
   ],
   "source": [
    "dtr.score(x_train,y_train)"
   ]
  },
  {
   "cell_type": "code",
   "execution_count": 49,
   "id": "b6941ada",
   "metadata": {},
   "outputs": [
    {
     "data": {
      "text/plain": [
       "0.9968285071215987"
      ]
     },
     "execution_count": 49,
     "metadata": {},
     "output_type": "execute_result"
    }
   ],
   "source": [
    "dtr.score(x_test,y_test)"
   ]
  },
  {
   "cell_type": "code",
   "execution_count": 50,
   "id": "3c8eb4b7",
   "metadata": {},
   "outputs": [],
   "source": [
    "from sklearn.ensemble import RandomForestRegressor"
   ]
  },
  {
   "cell_type": "code",
   "execution_count": 51,
   "id": "7e2dad37",
   "metadata": {},
   "outputs": [],
   "source": [
    "rfr= RandomForestRegressor(random_state=1)"
   ]
  },
  {
   "cell_type": "code",
   "execution_count": 52,
   "id": "a68d657e",
   "metadata": {},
   "outputs": [
    {
     "name": "stderr",
     "output_type": "stream",
     "text": [
      "C:\\Users\\Vasanth\\AppData\\Local\\Temp/ipykernel_5084/1947426121.py:1: DataConversionWarning: A column-vector y was passed when a 1d array was expected. Please change the shape of y to (n_samples,), for example using ravel().\n",
      "  rfr.fit(x_train,y_train)\n"
     ]
    },
    {
     "data": {
      "text/html": [
       "<style>#sk-container-id-3 {color: black;background-color: white;}#sk-container-id-3 pre{padding: 0;}#sk-container-id-3 div.sk-toggleable {background-color: white;}#sk-container-id-3 label.sk-toggleable__label {cursor: pointer;display: block;width: 100%;margin-bottom: 0;padding: 0.3em;box-sizing: border-box;text-align: center;}#sk-container-id-3 label.sk-toggleable__label-arrow:before {content: \"▸\";float: left;margin-right: 0.25em;color: #696969;}#sk-container-id-3 label.sk-toggleable__label-arrow:hover:before {color: black;}#sk-container-id-3 div.sk-estimator:hover label.sk-toggleable__label-arrow:before {color: black;}#sk-container-id-3 div.sk-toggleable__content {max-height: 0;max-width: 0;overflow: hidden;text-align: left;background-color: #f0f8ff;}#sk-container-id-3 div.sk-toggleable__content pre {margin: 0.2em;color: black;border-radius: 0.25em;background-color: #f0f8ff;}#sk-container-id-3 input.sk-toggleable__control:checked~div.sk-toggleable__content {max-height: 200px;max-width: 100%;overflow: auto;}#sk-container-id-3 input.sk-toggleable__control:checked~label.sk-toggleable__label-arrow:before {content: \"▾\";}#sk-container-id-3 div.sk-estimator input.sk-toggleable__control:checked~label.sk-toggleable__label {background-color: #d4ebff;}#sk-container-id-3 div.sk-label input.sk-toggleable__control:checked~label.sk-toggleable__label {background-color: #d4ebff;}#sk-container-id-3 input.sk-hidden--visually {border: 0;clip: rect(1px 1px 1px 1px);clip: rect(1px, 1px, 1px, 1px);height: 1px;margin: -1px;overflow: hidden;padding: 0;position: absolute;width: 1px;}#sk-container-id-3 div.sk-estimator {font-family: monospace;background-color: #f0f8ff;border: 1px dotted black;border-radius: 0.25em;box-sizing: border-box;margin-bottom: 0.5em;}#sk-container-id-3 div.sk-estimator:hover {background-color: #d4ebff;}#sk-container-id-3 div.sk-parallel-item::after {content: \"\";width: 100%;border-bottom: 1px solid gray;flex-grow: 1;}#sk-container-id-3 div.sk-label:hover label.sk-toggleable__label {background-color: #d4ebff;}#sk-container-id-3 div.sk-serial::before {content: \"\";position: absolute;border-left: 1px solid gray;box-sizing: border-box;top: 0;bottom: 0;left: 50%;z-index: 0;}#sk-container-id-3 div.sk-serial {display: flex;flex-direction: column;align-items: center;background-color: white;padding-right: 0.2em;padding-left: 0.2em;position: relative;}#sk-container-id-3 div.sk-item {position: relative;z-index: 1;}#sk-container-id-3 div.sk-parallel {display: flex;align-items: stretch;justify-content: center;background-color: white;position: relative;}#sk-container-id-3 div.sk-item::before, #sk-container-id-3 div.sk-parallel-item::before {content: \"\";position: absolute;border-left: 1px solid gray;box-sizing: border-box;top: 0;bottom: 0;left: 50%;z-index: -1;}#sk-container-id-3 div.sk-parallel-item {display: flex;flex-direction: column;z-index: 1;position: relative;background-color: white;}#sk-container-id-3 div.sk-parallel-item:first-child::after {align-self: flex-end;width: 50%;}#sk-container-id-3 div.sk-parallel-item:last-child::after {align-self: flex-start;width: 50%;}#sk-container-id-3 div.sk-parallel-item:only-child::after {width: 0;}#sk-container-id-3 div.sk-dashed-wrapped {border: 1px dashed gray;margin: 0 0.4em 0.5em 0.4em;box-sizing: border-box;padding-bottom: 0.4em;background-color: white;}#sk-container-id-3 div.sk-label label {font-family: monospace;font-weight: bold;display: inline-block;line-height: 1.2em;}#sk-container-id-3 div.sk-label-container {text-align: center;}#sk-container-id-3 div.sk-container {/* jupyter's `normalize.less` sets `[hidden] { display: none; }` but bootstrap.min.css set `[hidden] { display: none !important; }` so we also need the `!important` here to be able to override the default hidden behavior on the sphinx rendered scikit-learn.org. See: https://github.com/scikit-learn/scikit-learn/issues/21755 */display: inline-block !important;position: relative;}#sk-container-id-3 div.sk-text-repr-fallback {display: none;}</style><div id=\"sk-container-id-3\" class=\"sk-top-container\"><div class=\"sk-text-repr-fallback\"><pre>RandomForestRegressor(random_state=1)</pre><b>In a Jupyter environment, please rerun this cell to show the HTML representation or trust the notebook. <br />On GitHub, the HTML representation is unable to render, please try loading this page with nbviewer.org.</b></div><div class=\"sk-container\" hidden><div class=\"sk-item\"><div class=\"sk-estimator sk-toggleable\"><input class=\"sk-toggleable__control sk-hidden--visually\" id=\"sk-estimator-id-3\" type=\"checkbox\" checked><label for=\"sk-estimator-id-3\" class=\"sk-toggleable__label sk-toggleable__label-arrow\">RandomForestRegressor</label><div class=\"sk-toggleable__content\"><pre>RandomForestRegressor(random_state=1)</pre></div></div></div></div></div>"
      ],
      "text/plain": [
       "RandomForestRegressor(random_state=1)"
      ]
     },
     "execution_count": 52,
     "metadata": {},
     "output_type": "execute_result"
    }
   ],
   "source": [
    "rfr.fit(x_train,y_train)"
   ]
  },
  {
   "cell_type": "code",
   "execution_count": 53,
   "id": "333d7ba8",
   "metadata": {},
   "outputs": [
    {
     "data": {
      "text/plain": [
       "0.9994934954182777"
      ]
     },
     "execution_count": 53,
     "metadata": {},
     "output_type": "execute_result"
    }
   ],
   "source": [
    "rfr.score(x_train,y_train)"
   ]
  },
  {
   "cell_type": "code",
   "execution_count": 54,
   "id": "da20295d",
   "metadata": {},
   "outputs": [
    {
     "data": {
      "text/plain": [
       "0.9969268869175981"
      ]
     },
     "execution_count": 54,
     "metadata": {},
     "output_type": "execute_result"
    }
   ],
   "source": [
    "rfr.score(x_test,y_test)"
   ]
  },
  {
   "cell_type": "code",
   "execution_count": 55,
   "id": "23279076",
   "metadata": {},
   "outputs": [],
   "source": [
    "from sklearn.neighbors import KNeighborsRegressor\n",
    "from scipy.stats import zscore"
   ]
  },
  {
   "cell_type": "code",
   "execution_count": 56,
   "id": "d21c0c9c",
   "metadata": {},
   "outputs": [],
   "source": [
    "KNR= KNeighborsRegressor(n_neighbors=8, p=3,leaf_size=4)"
   ]
  },
  {
   "cell_type": "code",
   "execution_count": 57,
   "id": "f85571c6",
   "metadata": {},
   "outputs": [
    {
     "data": {
      "text/html": [
       "<style>#sk-container-id-4 {color: black;background-color: white;}#sk-container-id-4 pre{padding: 0;}#sk-container-id-4 div.sk-toggleable {background-color: white;}#sk-container-id-4 label.sk-toggleable__label {cursor: pointer;display: block;width: 100%;margin-bottom: 0;padding: 0.3em;box-sizing: border-box;text-align: center;}#sk-container-id-4 label.sk-toggleable__label-arrow:before {content: \"▸\";float: left;margin-right: 0.25em;color: #696969;}#sk-container-id-4 label.sk-toggleable__label-arrow:hover:before {color: black;}#sk-container-id-4 div.sk-estimator:hover label.sk-toggleable__label-arrow:before {color: black;}#sk-container-id-4 div.sk-toggleable__content {max-height: 0;max-width: 0;overflow: hidden;text-align: left;background-color: #f0f8ff;}#sk-container-id-4 div.sk-toggleable__content pre {margin: 0.2em;color: black;border-radius: 0.25em;background-color: #f0f8ff;}#sk-container-id-4 input.sk-toggleable__control:checked~div.sk-toggleable__content {max-height: 200px;max-width: 100%;overflow: auto;}#sk-container-id-4 input.sk-toggleable__control:checked~label.sk-toggleable__label-arrow:before {content: \"▾\";}#sk-container-id-4 div.sk-estimator input.sk-toggleable__control:checked~label.sk-toggleable__label {background-color: #d4ebff;}#sk-container-id-4 div.sk-label input.sk-toggleable__control:checked~label.sk-toggleable__label {background-color: #d4ebff;}#sk-container-id-4 input.sk-hidden--visually {border: 0;clip: rect(1px 1px 1px 1px);clip: rect(1px, 1px, 1px, 1px);height: 1px;margin: -1px;overflow: hidden;padding: 0;position: absolute;width: 1px;}#sk-container-id-4 div.sk-estimator {font-family: monospace;background-color: #f0f8ff;border: 1px dotted black;border-radius: 0.25em;box-sizing: border-box;margin-bottom: 0.5em;}#sk-container-id-4 div.sk-estimator:hover {background-color: #d4ebff;}#sk-container-id-4 div.sk-parallel-item::after {content: \"\";width: 100%;border-bottom: 1px solid gray;flex-grow: 1;}#sk-container-id-4 div.sk-label:hover label.sk-toggleable__label {background-color: #d4ebff;}#sk-container-id-4 div.sk-serial::before {content: \"\";position: absolute;border-left: 1px solid gray;box-sizing: border-box;top: 0;bottom: 0;left: 50%;z-index: 0;}#sk-container-id-4 div.sk-serial {display: flex;flex-direction: column;align-items: center;background-color: white;padding-right: 0.2em;padding-left: 0.2em;position: relative;}#sk-container-id-4 div.sk-item {position: relative;z-index: 1;}#sk-container-id-4 div.sk-parallel {display: flex;align-items: stretch;justify-content: center;background-color: white;position: relative;}#sk-container-id-4 div.sk-item::before, #sk-container-id-4 div.sk-parallel-item::before {content: \"\";position: absolute;border-left: 1px solid gray;box-sizing: border-box;top: 0;bottom: 0;left: 50%;z-index: -1;}#sk-container-id-4 div.sk-parallel-item {display: flex;flex-direction: column;z-index: 1;position: relative;background-color: white;}#sk-container-id-4 div.sk-parallel-item:first-child::after {align-self: flex-end;width: 50%;}#sk-container-id-4 div.sk-parallel-item:last-child::after {align-self: flex-start;width: 50%;}#sk-container-id-4 div.sk-parallel-item:only-child::after {width: 0;}#sk-container-id-4 div.sk-dashed-wrapped {border: 1px dashed gray;margin: 0 0.4em 0.5em 0.4em;box-sizing: border-box;padding-bottom: 0.4em;background-color: white;}#sk-container-id-4 div.sk-label label {font-family: monospace;font-weight: bold;display: inline-block;line-height: 1.2em;}#sk-container-id-4 div.sk-label-container {text-align: center;}#sk-container-id-4 div.sk-container {/* jupyter's `normalize.less` sets `[hidden] { display: none; }` but bootstrap.min.css set `[hidden] { display: none !important; }` so we also need the `!important` here to be able to override the default hidden behavior on the sphinx rendered scikit-learn.org. See: https://github.com/scikit-learn/scikit-learn/issues/21755 */display: inline-block !important;position: relative;}#sk-container-id-4 div.sk-text-repr-fallback {display: none;}</style><div id=\"sk-container-id-4\" class=\"sk-top-container\"><div class=\"sk-text-repr-fallback\"><pre>KNeighborsRegressor(leaf_size=4, n_neighbors=8, p=3)</pre><b>In a Jupyter environment, please rerun this cell to show the HTML representation or trust the notebook. <br />On GitHub, the HTML representation is unable to render, please try loading this page with nbviewer.org.</b></div><div class=\"sk-container\" hidden><div class=\"sk-item\"><div class=\"sk-estimator sk-toggleable\"><input class=\"sk-toggleable__control sk-hidden--visually\" id=\"sk-estimator-id-4\" type=\"checkbox\" checked><label for=\"sk-estimator-id-4\" class=\"sk-toggleable__label sk-toggleable__label-arrow\">KNeighborsRegressor</label><div class=\"sk-toggleable__content\"><pre>KNeighborsRegressor(leaf_size=4, n_neighbors=8, p=3)</pre></div></div></div></div></div>"
      ],
      "text/plain": [
       "KNeighborsRegressor(leaf_size=4, n_neighbors=8, p=3)"
      ]
     },
     "execution_count": 57,
     "metadata": {},
     "output_type": "execute_result"
    }
   ],
   "source": [
    "KNR.fit(x_train,y_train)"
   ]
  },
  {
   "cell_type": "code",
   "execution_count": 58,
   "id": "279770d5",
   "metadata": {},
   "outputs": [
    {
     "data": {
      "text/plain": [
       "0.9808342032810294"
      ]
     },
     "execution_count": 58,
     "metadata": {},
     "output_type": "execute_result"
    }
   ],
   "source": [
    "KNR.score(x_train,y_train)"
   ]
  },
  {
   "cell_type": "code",
   "execution_count": 59,
   "id": "acdda54d",
   "metadata": {},
   "outputs": [
    {
     "data": {
      "text/plain": [
       "0.9760954810780003"
      ]
     },
     "execution_count": 59,
     "metadata": {},
     "output_type": "execute_result"
    }
   ],
   "source": [
    "KNR.score(x_test,y_test)"
   ]
  },
  {
   "cell_type": "markdown",
   "id": "148a37d9",
   "metadata": {},
   "source": [
    "### normalization"
   ]
  },
  {
   "cell_type": "code",
   "execution_count": 60,
   "id": "e784a04f",
   "metadata": {},
   "outputs": [],
   "source": [
    "\n",
    "# data normalization with sklearn\n",
    "from sklearn.preprocessing import MinMaxScaler\n",
    "\n",
    "# fit scaler on training data\n",
    "norm = MinMaxScaler().fit(x_train)\n",
    "\n",
    "# transform training data\n",
    "x_train_norm = norm.transform(x_train)\n",
    "\n",
    "# transform testing dataabs\n",
    "x_test_norm = norm.transform(x_test)"
   ]
  },
  {
   "cell_type": "code",
   "execution_count": 61,
   "id": "013481de",
   "metadata": {},
   "outputs": [],
   "source": [
    "\n",
    "x=df.drop(['followers',],axis=1)\n",
    "y=df[['followers']]"
   ]
  },
  {
   "cell_type": "code",
   "execution_count": 62,
   "id": "85258570",
   "metadata": {},
   "outputs": [],
   "source": [
    "x_train_norm,x_test_norm,y_train_norm,y_test_norm=train_test_split(x,y,test_size=0.3,random_state=1)"
   ]
  },
  {
   "cell_type": "code",
   "execution_count": 63,
   "id": "a6218be4",
   "metadata": {},
   "outputs": [],
   "source": [
    "b = DecisionTreeRegressor()"
   ]
  },
  {
   "cell_type": "code",
   "execution_count": 64,
   "id": "2a7ff834",
   "metadata": {},
   "outputs": [
    {
     "data": {
      "text/html": [
       "<style>#sk-container-id-5 {color: black;background-color: white;}#sk-container-id-5 pre{padding: 0;}#sk-container-id-5 div.sk-toggleable {background-color: white;}#sk-container-id-5 label.sk-toggleable__label {cursor: pointer;display: block;width: 100%;margin-bottom: 0;padding: 0.3em;box-sizing: border-box;text-align: center;}#sk-container-id-5 label.sk-toggleable__label-arrow:before {content: \"▸\";float: left;margin-right: 0.25em;color: #696969;}#sk-container-id-5 label.sk-toggleable__label-arrow:hover:before {color: black;}#sk-container-id-5 div.sk-estimator:hover label.sk-toggleable__label-arrow:before {color: black;}#sk-container-id-5 div.sk-toggleable__content {max-height: 0;max-width: 0;overflow: hidden;text-align: left;background-color: #f0f8ff;}#sk-container-id-5 div.sk-toggleable__content pre {margin: 0.2em;color: black;border-radius: 0.25em;background-color: #f0f8ff;}#sk-container-id-5 input.sk-toggleable__control:checked~div.sk-toggleable__content {max-height: 200px;max-width: 100%;overflow: auto;}#sk-container-id-5 input.sk-toggleable__control:checked~label.sk-toggleable__label-arrow:before {content: \"▾\";}#sk-container-id-5 div.sk-estimator input.sk-toggleable__control:checked~label.sk-toggleable__label {background-color: #d4ebff;}#sk-container-id-5 div.sk-label input.sk-toggleable__control:checked~label.sk-toggleable__label {background-color: #d4ebff;}#sk-container-id-5 input.sk-hidden--visually {border: 0;clip: rect(1px 1px 1px 1px);clip: rect(1px, 1px, 1px, 1px);height: 1px;margin: -1px;overflow: hidden;padding: 0;position: absolute;width: 1px;}#sk-container-id-5 div.sk-estimator {font-family: monospace;background-color: #f0f8ff;border: 1px dotted black;border-radius: 0.25em;box-sizing: border-box;margin-bottom: 0.5em;}#sk-container-id-5 div.sk-estimator:hover {background-color: #d4ebff;}#sk-container-id-5 div.sk-parallel-item::after {content: \"\";width: 100%;border-bottom: 1px solid gray;flex-grow: 1;}#sk-container-id-5 div.sk-label:hover label.sk-toggleable__label {background-color: #d4ebff;}#sk-container-id-5 div.sk-serial::before {content: \"\";position: absolute;border-left: 1px solid gray;box-sizing: border-box;top: 0;bottom: 0;left: 50%;z-index: 0;}#sk-container-id-5 div.sk-serial {display: flex;flex-direction: column;align-items: center;background-color: white;padding-right: 0.2em;padding-left: 0.2em;position: relative;}#sk-container-id-5 div.sk-item {position: relative;z-index: 1;}#sk-container-id-5 div.sk-parallel {display: flex;align-items: stretch;justify-content: center;background-color: white;position: relative;}#sk-container-id-5 div.sk-item::before, #sk-container-id-5 div.sk-parallel-item::before {content: \"\";position: absolute;border-left: 1px solid gray;box-sizing: border-box;top: 0;bottom: 0;left: 50%;z-index: -1;}#sk-container-id-5 div.sk-parallel-item {display: flex;flex-direction: column;z-index: 1;position: relative;background-color: white;}#sk-container-id-5 div.sk-parallel-item:first-child::after {align-self: flex-end;width: 50%;}#sk-container-id-5 div.sk-parallel-item:last-child::after {align-self: flex-start;width: 50%;}#sk-container-id-5 div.sk-parallel-item:only-child::after {width: 0;}#sk-container-id-5 div.sk-dashed-wrapped {border: 1px dashed gray;margin: 0 0.4em 0.5em 0.4em;box-sizing: border-box;padding-bottom: 0.4em;background-color: white;}#sk-container-id-5 div.sk-label label {font-family: monospace;font-weight: bold;display: inline-block;line-height: 1.2em;}#sk-container-id-5 div.sk-label-container {text-align: center;}#sk-container-id-5 div.sk-container {/* jupyter's `normalize.less` sets `[hidden] { display: none; }` but bootstrap.min.css set `[hidden] { display: none !important; }` so we also need the `!important` here to be able to override the default hidden behavior on the sphinx rendered scikit-learn.org. See: https://github.com/scikit-learn/scikit-learn/issues/21755 */display: inline-block !important;position: relative;}#sk-container-id-5 div.sk-text-repr-fallback {display: none;}</style><div id=\"sk-container-id-5\" class=\"sk-top-container\"><div class=\"sk-text-repr-fallback\"><pre>DecisionTreeRegressor()</pre><b>In a Jupyter environment, please rerun this cell to show the HTML representation or trust the notebook. <br />On GitHub, the HTML representation is unable to render, please try loading this page with nbviewer.org.</b></div><div class=\"sk-container\" hidden><div class=\"sk-item\"><div class=\"sk-estimator sk-toggleable\"><input class=\"sk-toggleable__control sk-hidden--visually\" id=\"sk-estimator-id-5\" type=\"checkbox\" checked><label for=\"sk-estimator-id-5\" class=\"sk-toggleable__label sk-toggleable__label-arrow\">DecisionTreeRegressor</label><div class=\"sk-toggleable__content\"><pre>DecisionTreeRegressor()</pre></div></div></div></div></div>"
      ],
      "text/plain": [
       "DecisionTreeRegressor()"
      ]
     },
     "execution_count": 64,
     "metadata": {},
     "output_type": "execute_result"
    }
   ],
   "source": [
    "b.fit(x_train_norm,y_train)"
   ]
  },
  {
   "cell_type": "code",
   "execution_count": 65,
   "id": "5d9e8001",
   "metadata": {},
   "outputs": [
    {
     "data": {
      "text/plain": [
       "1.0"
      ]
     },
     "execution_count": 65,
     "metadata": {},
     "output_type": "execute_result"
    }
   ],
   "source": [
    "b.score(x_train_norm,y_train)"
   ]
  },
  {
   "cell_type": "code",
   "execution_count": 66,
   "id": "80905da8",
   "metadata": {},
   "outputs": [
    {
     "data": {
      "text/plain": [
       "0.9966779748530125"
      ]
     },
     "execution_count": 66,
     "metadata": {},
     "output_type": "execute_result"
    }
   ],
   "source": [
    "b.score(x_test_norm,y_test)"
   ]
  },
  {
   "cell_type": "markdown",
   "id": "ca22517e",
   "metadata": {},
   "source": [
    "### standardization"
   ]
  },
  {
   "cell_type": "code",
   "execution_count": 67,
   "id": "827b7109",
   "metadata": {},
   "outputs": [],
   "source": [
    "# data standardization with  sklearn\n",
    "from sklearn.preprocessing import StandardScaler\n",
    "\n",
    "# copy of datasets\n",
    "x_train_stand = x_train.copy()\n",
    "x_test_stand = x_test.copy()\n",
    "\n",
    "# numerical features\n",
    "num_cols = ['number','num_hashtags','hashtag_followers','reactions','comments']\n",
    "\n",
    "# apply standardization on numerical features\n",
    "for i in num_cols:\n",
    "    \n",
    "    # fit on training data column\n",
    "    scale = StandardScaler().fit(x_train_stand[[i]])\n",
    "    \n",
    "    # transform the training data column\n",
    "    x_train_stand[i] = scale.transform(x_train_stand[[i]])\n",
    "    \n",
    "    # transform the testing data column\n",
    "    x_test_stand[i] = scale.transform(x_test_stand[[i]])"
   ]
  },
  {
   "cell_type": "code",
   "execution_count": 68,
   "id": "4e9cdb7f",
   "metadata": {},
   "outputs": [
    {
     "name": "stderr",
     "output_type": "stream",
     "text": [
      "C:\\Users\\Vasanth\\AppData\\Local\\Temp/ipykernel_5084/932141593.py:1: DataConversionWarning: A column-vector y was passed when a 1d array was expected. Please change the shape of y to (n_samples,), for example using ravel().\n",
      "  rfr.fit(x_train_stand,y_train)\n"
     ]
    },
    {
     "data": {
      "text/html": [
       "<style>#sk-container-id-6 {color: black;background-color: white;}#sk-container-id-6 pre{padding: 0;}#sk-container-id-6 div.sk-toggleable {background-color: white;}#sk-container-id-6 label.sk-toggleable__label {cursor: pointer;display: block;width: 100%;margin-bottom: 0;padding: 0.3em;box-sizing: border-box;text-align: center;}#sk-container-id-6 label.sk-toggleable__label-arrow:before {content: \"▸\";float: left;margin-right: 0.25em;color: #696969;}#sk-container-id-6 label.sk-toggleable__label-arrow:hover:before {color: black;}#sk-container-id-6 div.sk-estimator:hover label.sk-toggleable__label-arrow:before {color: black;}#sk-container-id-6 div.sk-toggleable__content {max-height: 0;max-width: 0;overflow: hidden;text-align: left;background-color: #f0f8ff;}#sk-container-id-6 div.sk-toggleable__content pre {margin: 0.2em;color: black;border-radius: 0.25em;background-color: #f0f8ff;}#sk-container-id-6 input.sk-toggleable__control:checked~div.sk-toggleable__content {max-height: 200px;max-width: 100%;overflow: auto;}#sk-container-id-6 input.sk-toggleable__control:checked~label.sk-toggleable__label-arrow:before {content: \"▾\";}#sk-container-id-6 div.sk-estimator input.sk-toggleable__control:checked~label.sk-toggleable__label {background-color: #d4ebff;}#sk-container-id-6 div.sk-label input.sk-toggleable__control:checked~label.sk-toggleable__label {background-color: #d4ebff;}#sk-container-id-6 input.sk-hidden--visually {border: 0;clip: rect(1px 1px 1px 1px);clip: rect(1px, 1px, 1px, 1px);height: 1px;margin: -1px;overflow: hidden;padding: 0;position: absolute;width: 1px;}#sk-container-id-6 div.sk-estimator {font-family: monospace;background-color: #f0f8ff;border: 1px dotted black;border-radius: 0.25em;box-sizing: border-box;margin-bottom: 0.5em;}#sk-container-id-6 div.sk-estimator:hover {background-color: #d4ebff;}#sk-container-id-6 div.sk-parallel-item::after {content: \"\";width: 100%;border-bottom: 1px solid gray;flex-grow: 1;}#sk-container-id-6 div.sk-label:hover label.sk-toggleable__label {background-color: #d4ebff;}#sk-container-id-6 div.sk-serial::before {content: \"\";position: absolute;border-left: 1px solid gray;box-sizing: border-box;top: 0;bottom: 0;left: 50%;z-index: 0;}#sk-container-id-6 div.sk-serial {display: flex;flex-direction: column;align-items: center;background-color: white;padding-right: 0.2em;padding-left: 0.2em;position: relative;}#sk-container-id-6 div.sk-item {position: relative;z-index: 1;}#sk-container-id-6 div.sk-parallel {display: flex;align-items: stretch;justify-content: center;background-color: white;position: relative;}#sk-container-id-6 div.sk-item::before, #sk-container-id-6 div.sk-parallel-item::before {content: \"\";position: absolute;border-left: 1px solid gray;box-sizing: border-box;top: 0;bottom: 0;left: 50%;z-index: -1;}#sk-container-id-6 div.sk-parallel-item {display: flex;flex-direction: column;z-index: 1;position: relative;background-color: white;}#sk-container-id-6 div.sk-parallel-item:first-child::after {align-self: flex-end;width: 50%;}#sk-container-id-6 div.sk-parallel-item:last-child::after {align-self: flex-start;width: 50%;}#sk-container-id-6 div.sk-parallel-item:only-child::after {width: 0;}#sk-container-id-6 div.sk-dashed-wrapped {border: 1px dashed gray;margin: 0 0.4em 0.5em 0.4em;box-sizing: border-box;padding-bottom: 0.4em;background-color: white;}#sk-container-id-6 div.sk-label label {font-family: monospace;font-weight: bold;display: inline-block;line-height: 1.2em;}#sk-container-id-6 div.sk-label-container {text-align: center;}#sk-container-id-6 div.sk-container {/* jupyter's `normalize.less` sets `[hidden] { display: none; }` but bootstrap.min.css set `[hidden] { display: none !important; }` so we also need the `!important` here to be able to override the default hidden behavior on the sphinx rendered scikit-learn.org. See: https://github.com/scikit-learn/scikit-learn/issues/21755 */display: inline-block !important;position: relative;}#sk-container-id-6 div.sk-text-repr-fallback {display: none;}</style><div id=\"sk-container-id-6\" class=\"sk-top-container\"><div class=\"sk-text-repr-fallback\"><pre>RandomForestRegressor(random_state=1)</pre><b>In a Jupyter environment, please rerun this cell to show the HTML representation or trust the notebook. <br />On GitHub, the HTML representation is unable to render, please try loading this page with nbviewer.org.</b></div><div class=\"sk-container\" hidden><div class=\"sk-item\"><div class=\"sk-estimator sk-toggleable\"><input class=\"sk-toggleable__control sk-hidden--visually\" id=\"sk-estimator-id-6\" type=\"checkbox\" checked><label for=\"sk-estimator-id-6\" class=\"sk-toggleable__label sk-toggleable__label-arrow\">RandomForestRegressor</label><div class=\"sk-toggleable__content\"><pre>RandomForestRegressor(random_state=1)</pre></div></div></div></div></div>"
      ],
      "text/plain": [
       "RandomForestRegressor(random_state=1)"
      ]
     },
     "execution_count": 68,
     "metadata": {},
     "output_type": "execute_result"
    }
   ],
   "source": [
    "rfr.fit(x_train_stand,y_train)"
   ]
  },
  {
   "cell_type": "code",
   "execution_count": 69,
   "id": "085c10d0",
   "metadata": {},
   "outputs": [
    {
     "data": {
      "text/plain": [
       "0.999493749659269"
      ]
     },
     "execution_count": 69,
     "metadata": {},
     "output_type": "execute_result"
    }
   ],
   "source": [
    "rfr.score(x_train_stand,y_train)"
   ]
  },
  {
   "cell_type": "code",
   "execution_count": 70,
   "id": "0b4401b5",
   "metadata": {},
   "outputs": [
    {
     "data": {
      "text/plain": [
       "0.9969360162319794"
      ]
     },
     "execution_count": 70,
     "metadata": {},
     "output_type": "execute_result"
    }
   ],
   "source": [
    "rfr.score(x_test_stand,y_test)"
   ]
  },
  {
   "cell_type": "code",
   "execution_count": null,
   "id": "d5a7af84",
   "metadata": {},
   "outputs": [],
   "source": []
  }
 ],
 "metadata": {
  "kernelspec": {
   "display_name": "Python 3 (ipykernel)",
   "language": "python",
   "name": "python3"
  },
  "language_info": {
   "codemirror_mode": {
    "name": "ipython",
    "version": 3
   },
   "file_extension": ".py",
   "mimetype": "text/x-python",
   "name": "python",
   "nbconvert_exporter": "python",
   "pygments_lexer": "ipython3",
   "version": "3.9.7"
  }
 },
 "nbformat": 4,
 "nbformat_minor": 5
}
